{
 "cells": [
  {
   "cell_type": "markdown",
   "metadata": {},
   "source": [
    "# Robin Hood:\n",
    "We are in a competition to win the archery contest in Sherwood. With our bow and arrows we shoot on a target and try to hit as close as possible to the center.\n",
    "\n",
    "The center of the target is represented by the values (0, 0) on the coordinate axes.\n",
    "\n",
    "![](images/arrows.jpg)\n",
    "\n",
    "## Goals:\n",
    "* data structures: lists, sets, tuples\n",
    "* logical operators: if-elif-else\n",
    "* loop: while/for\n",
    "* minimum (optional sorting)\n",
    "\n",
    "## Description:\n",
    "In the 2-dimensional space, a point can be defined by a pair of values that correspond to the horizontal coordinate (x) and the vertical coordinate (y). The space can be divided into 4 zones (quadrants): Q1, Q2, Q3, Q4. Whose single point of union is the point (0, 0).\n",
    "\n",
    "If a point is in Q1 both its x coordinate and the y are positive. I leave a link to wikipedia to familiarize yourself with these quadrants.\n",
    "\n",
    "https://en.wikipedia.org/wiki/Cartesian_coordinate_system\n",
    "\n",
    "https://en.wikipedia.org/wiki/Euclidean_distance\n",
    "\n",
    "## Shots\n",
    "```\n",
    "points = [(4, 5), (-0, 2), (4, 7), (1, -3), (3, -2), (4, 5),\n",
    "          (3, 2), (5, 7), (-5, 7), (2, 2), (-4, 5), (0, -2),\n",
    "          (-4, 7), (-1, 3), (-3, 2), (-4, -5), (-3, 2),\n",
    "          (5, 7), (5, 7), (2, 2), (9, 9), (-8, -9)]\n",
    "```\n",
    "\n",
    "## Tasks\n",
    "1. Robin Hood is famous for hitting an arrow with another arrow. Did you get it?\n",
    "2. Calculate how many arrows have fallen in each quadrant.\n",
    "3. Find the point closest to the center. Calculate its distance to the center. \n",
    "4. If the target has a radius of 9, calculate the number of arrows that must be picked up in the forest."
   ]
  },
  {
   "cell_type": "code",
   "execution_count": 1,
   "metadata": {},
   "outputs": [],
   "source": [
    "# Variables\n",
    "\n",
    "points = [(4, 5), (-0, 2), (4, 7), (1, -3), (3, -2), (4, 5),\n",
    "          (3, 2), (5, 7), (-5, 7), (2, 2), (-4, 5), (0, -2),\n",
    "          (-4, 7), (-1, 3), (-3, 2), (-4, -5), (-3, 2),\n",
    "          (5, 7), (5, 7), (2, 2), (9, 9), (-8, -9)]"
   ]
  },
  {
   "cell_type": "code",
   "execution_count": 2,
   "metadata": {},
   "outputs": [],
   "source": [
    "# 1. Robin Hood is famous for hitting an arrow with another arrow. Did you get it?\n",
    "\n",
    "#meh\n"
   ]
  },
  {
   "cell_type": "code",
   "execution_count": 9,
   "metadata": {},
   "outputs": [
    {
     "name": "stdout",
     "output_type": "stream",
     "text": [
      "2\n",
      "0\n",
      "10 puntos en cuadrante 1\n",
      "6 puntos en cuadrante 2\n",
      "2 puntos en cuadrante 3\n",
      "2 puntos en cuadrante 4\n",
      "2 puntos sobre los ejes\n"
     ]
    }
   ],
   "source": [
    "# 2. Calculate how many arrows have fallen in each quadrant.\n",
    "cuad1 = 0\n",
    "cuad2 = 0\n",
    "cuad3 = 0\n",
    "cuad4 = 0\n",
    "en_ejes = 0\n",
    "en_eje_vert = 0\n",
    "en_eje_hor = 0\n",
    "\n",
    "for point in points:\n",
    "    if point[0] < 0:\n",
    "        if point[1] < 0:\n",
    "            cuad3 += 1\n",
    "        elif point[1] > 0:\n",
    "            cuad2 += 1\n",
    "    elif point[0] > 0:\n",
    "        if point[1] < 0:\n",
    "            cuad4 += 1\n",
    "        elif point[1] > 0:\n",
    "            cuad1 += 1\n",
    "    elif point[0] == (0|-0): #no está contando el segundo punto, el (-0,2), Ya lo hizo era +=, no =+\n",
    "        en_eje_vert += 1\n",
    "    elif point[1] == (0|-0):\n",
    "        en_eje_hor += 1\n",
    "\n",
    "print(en_eje_vert)\n",
    "print(en_eje_hor)\n",
    "en_ejes = en_eje_vert + en_eje_hor\n",
    "        \n",
    "print(cuad1, \"puntos en cuadrante 1\")\n",
    "print(cuad2, \"puntos en cuadrante 2\")\n",
    "print(cuad3, \"puntos en cuadrante 3\")\n",
    "print(cuad4, \"puntos en cuadrante 4\")\n",
    "print(en_ejes, \"puntos sobre los ejes\")"
   ]
  },
  {
   "cell_type": "code",
   "execution_count": 4,
   "metadata": {},
   "outputs": [
    {
     "name": "stdout",
     "output_type": "stream",
     "text": [
      "El punto (4, 5) tiene la distancia 6.4031242374328485\n",
      "El punto (0, 2) tiene la distancia 2.0\n",
      "El punto (0, -2) tiene la distancia 2.0\n",
      "[6.4031242374328485, 2.0, 8.06225774829855, 3.1622776601683795, 3.605551275463989, 6.4031242374328485, 3.605551275463989, 8.602325267042627, 8.602325267042627, 2.8284271247461903, 6.4031242374328485, 2.0, 8.06225774829855, 3.1622776601683795, 3.605551275463989, 6.4031242374328485, 3.605551275463989, 8.602325267042627, 8.602325267042627, 2.8284271247461903, 12.727922061357855, 12.041594578792296]\n",
      "2.0\n",
      "El punto más cercano es [(4, 5), (0, 2), (0, -2)]\n"
     ]
    }
   ],
   "source": [
    "# 3. Find the point closest to the center. Calculate its distance to the center\n",
    "# Defining a function that calculates the distance to the center can help.\n",
    "import math\n",
    "distancias = []\n",
    "menor_distancia = 100\n",
    "puntos_mas_cercanos = []\n",
    "\n",
    "for point in points:\n",
    "    distancia = math.sqrt((point[0])**2 + (point[1])**2)\n",
    "    distancias.append(distancia)\n",
    "    if distancia <= menor_distancia:\n",
    "        menor_distancia = distancia\n",
    "        print('El punto',point,'tiene la distancia',menor_distancia)\n",
    "        puntos_mas_cercanos.append(point)\n",
    "    \n",
    "print(distancias)\n",
    "print(min(distancias))\n",
    "\n",
    "print('El punto más cercano es', puntos_mas_cercanos )"
   ]
  },
  {
   "cell_type": "code",
   "execution_count": 10,
   "metadata": {},
   "outputs": [
    {
     "name": "stdout",
     "output_type": "stream",
     "text": [
      "20\n",
      "Es necesario recoger  2 flechas en el bosque\n"
     ]
    }
   ],
   "source": [
    "# 4. If the target has a radius of 9, calculate the number of arrows that \n",
    "# must be picked up in the forest.\n",
    "flechas = 0\n",
    "\n",
    "for distancia in distancias:\n",
    "    if distancia < 9:\n",
    "        flechas += 1\n",
    "print(flechas)\n",
    "recogidas = len(distancias) - flechas\n",
    "print('Es necesario recoger ', recogidas, 'flechas en el bosque')\n",
    "    "
   ]
  },
  {
   "cell_type": "code",
   "execution_count": null,
   "metadata": {},
   "outputs": [],
   "source": []
  }
 ],
 "metadata": {
  "kernelspec": {
   "display_name": "Python 3",
   "language": "python",
   "name": "python3"
  },
  "language_info": {
   "codemirror_mode": {
    "name": "ipython",
    "version": 3
   },
   "file_extension": ".py",
   "mimetype": "text/x-python",
   "name": "python",
   "nbconvert_exporter": "python",
   "pygments_lexer": "ipython3",
   "version": "3.7.3"
  }
 },
 "nbformat": 4,
 "nbformat_minor": 2
}
