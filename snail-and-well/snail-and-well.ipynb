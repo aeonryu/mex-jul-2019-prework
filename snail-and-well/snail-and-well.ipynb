{
 "cells": [
  {
   "cell_type": "markdown",
   "metadata": {},
   "source": [
    "# Snail and well\n",
    "\n",
    "A snail falls at the bottom of a 125 cm well. Each day the snail rises 30 cm. But at night, while sleeping, slides 20 cm because the walls are wet. How many days does it take to escape from the well?\n",
    "\n",
    "TIP: http://puzzles.nigelcoldwell.co.uk/sixtytwo.htm"
   ]
  },
  {
   "cell_type": "markdown",
   "metadata": {},
   "source": [
    "## Solución"
   ]
  },
  {
   "cell_type": "code",
   "execution_count": 9,
   "metadata": {},
   "outputs": [
    {
     "name": "stdout",
     "output_type": "stream",
     "text": [
      "La solución es:  11\n",
      "Days = 11\n"
     ]
    }
   ],
   "source": [
    "# Assign problem data to variables with representative names\n",
    "# well height, daily advance, night retreat, accumulated distance\n",
    "well_height = 125\n",
    "daily_advance = 30\n",
    "night_retreat = 20\n",
    "\n",
    "# Assign 0 to the variable that represents the solution\n",
    "days = 0\n",
    "\n",
    "# Write the code that solves the problem\n",
    "height = 0\n",
    "while height < 125:\n",
    "    days = days + 1\n",
    "    height = height + daily_advance\n",
    "    if height >= well_height:\n",
    "        print('La solución es: ', days)\n",
    "    else: \n",
    "        height = height - night_retreat\n",
    "\n",
    "# Print the result with print('Days =', days)\n",
    "print('Days =', days)"
   ]
  },
  {
   "cell_type": "markdown",
   "metadata": {},
   "source": [
    "## Goals\n",
    "\n",
    "1. Treatment of variables\n",
    "2. Use of loop **while**\n",
    "3. Use of conditional **if-else**\n",
    "4. Print in console"
   ]
  },
  {
   "cell_type": "markdown",
   "metadata": {},
   "source": [
    "## Bonus\n",
    "The distance traveled by the snail is now defined by a list.\n",
    "```\n",
    "advance_cm = [30, 21, 33, 77, 44, 45, 23, 45, 12, 34, 55]\n",
    "```\n",
    "How long does it take to raise the well?\n",
    "\n",
    "What is its maximum displacement in one day? And its minimum?\n",
    "\n",
    "What is its average speed during the day?\n",
    "\n",
    "What is the standard deviation of its displacement during the day?"
   ]
  },
  {
   "cell_type": "code",
   "execution_count": 25,
   "metadata": {},
   "outputs": [
    {
     "name": "stdout",
     "output_type": "stream",
     "text": [
      "La solución es:  4\n",
      "Days = 4\n",
      "[-9, 12, 44, -33, 1, -22, 22, -33, 22, 21]\n",
      "El máximo desplazamiento fue: 44\n",
      "El mínimo desplazamiento fue: 1\n",
      "El progreso promedio es:  2.5\n",
      "La desviación estándar de los desplazamientos es:  1.4941528319272641\n"
     ]
    }
   ],
   "source": [
    "# Assign problem data to variables with representative names\n",
    "# well height, daily advance, night retreat, accumulated distance\n",
    "well_height = 125\n",
    "#daily_advance = 30\n",
    "#night_retreat = 20\n",
    "accumulated_distance = 0\n",
    "advance_cm = [30, 21, 33, 77, 44, 45, 23, 45, 12, 34, 55]\n",
    "\n",
    "# Assign 0 to the variable that represents the solution\n",
    "days = 0\n",
    "\n",
    "# Write the code that solves the problem\n",
    "height = 0\n",
    "while height < 125:\n",
    "    avance = advance_cm[days]\n",
    "    height = height + avance\n",
    "    days = days + 1\n",
    "    if height >= well_height:\n",
    "        print('La solución es: ', days)\n",
    "\n",
    "\n",
    "# Print the result with print('Days =', days)\n",
    "print('Days =', days)\n",
    "\n",
    "# What is its maximum displacement in a day? And its minimum?\n",
    "compara = []\n",
    "for i in range(0,10):\n",
    "    diferencia = advance_cm[i+1] - advance_cm[i]\n",
    "    #print(\"Diferencia\", diferencia)\n",
    "    #compara.append(diferencia) \n",
    "print(compara)\n",
    "print('El máximo desplazamiento fue:' , max(compara))\n",
    "\n",
    "absolutos = []\n",
    "for j in compara:\n",
    "    valorabs = abs(j)\n",
    "    absolutos.append(valorabs)\n",
    "\n",
    "print('El mínimo desplazamiento fue:' , min(absolutos))\n",
    "\n",
    "# What is its average progress?\n",
    "promedio = sum(compara)/len(compara)\n",
    "print('El progreso promedio es: ', promedio)\n",
    "\n",
    "# What is the standard deviation of your displacement during the day?\n",
    "import math\n",
    "desv1 =[]\n",
    "for desplazamiento in compara:\n",
    "    cuadrado = (desplazamiento-promedio)**2\n",
    "    desv1.append(cuadrado)\n",
    "desv2 = sum(desv1)/len(compara)\n",
    "desv3 = math.sqrt(desv3)\n",
    "print('La desviación estándar de los desplazamientos es: ', desv3)\n"
   ]
  },
  {
   "cell_type": "code",
   "execution_count": null,
   "metadata": {},
   "outputs": [],
   "source": []
  }
 ],
 "metadata": {
  "kernelspec": {
   "display_name": "Python 3",
   "language": "python",
   "name": "python3"
  },
  "language_info": {
   "codemirror_mode": {
    "name": "ipython",
    "version": 3
   },
   "file_extension": ".py",
   "mimetype": "text/x-python",
   "name": "python",
   "nbconvert_exporter": "python",
   "pygments_lexer": "ipython3",
   "version": "3.7.3"
  }
 },
 "nbformat": 4,
 "nbformat_minor": 2
}
