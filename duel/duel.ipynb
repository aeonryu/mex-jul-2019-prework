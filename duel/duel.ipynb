{
 "cells": [
  {
   "cell_type": "markdown",
   "metadata": {},
   "source": [
    "# Duel of sorcerers\n",
    "You are witnessing an epic battle between two powerful sorcerers: Gandalf and Saruman. Each sorcerer has 10 spells of variable power in their mind and they are going to throw them one after the other. The winner of the duel will be the one who wins more of those clashes between spells. Spells are represented as a list of 10 integers whose value equals the power of the spell.\n",
    "```\n",
    "gandalf = [10, 11, 13, 30, 22, 11, 10, 33, 22, 22]\n",
    "saruman = [23, 66, 12, 43, 12, 10, 44, 23, 12, 17]\n",
    "```\n",
    "For example:\n",
    "1. The first clash is won by Saruman: 10 against 23, wins 23\n",
    "2. The second clash wins Saruman: 11 against 66, wins 66\n",
    "3. etc.\n",
    "\n",
    "\n",
    "You will create two variables, one for each sorcerer, where the sum of clashes won will be stored. Depending on which variable is greater at the end of the duel, you will show one of the following three results on the screen:\n",
    "* Gandalf wins\n",
    "* Saruman wins\n",
    "* Tie\n",
    "\n",
    "<img src=\"images/content_lightning_bolt_big.jpg\" width=\"400\">"
   ]
  },
  {
   "cell_type": "markdown",
   "metadata": {},
   "source": [
    "## Solution"
   ]
  },
  {
   "cell_type": "code",
   "execution_count": 3,
   "metadata": {},
   "outputs": [
    {
     "name": "stdout",
     "output_type": "stream",
     "text": [
      "10\n"
     ]
    }
   ],
   "source": [
    "# Assign spell power lists to variables\n",
    "\n",
    "gandalf = [10, 11, 13, 30, 22, 11, 10, 33, 22, 22]\n",
    "saruman = [23, 66, 12, 43, 12, 10, 44, 23, 12, 17]\n",
    "\n",
    "#print(gandalf[0])"
   ]
  },
  {
   "cell_type": "code",
   "execution_count": 2,
   "metadata": {},
   "outputs": [],
   "source": [
    "# Assign 0 to each variable that stores the victories\n",
    "gandalf_wins = 0\n",
    "saruman_wins = 0"
   ]
  },
  {
   "cell_type": "code",
   "execution_count": 11,
   "metadata": {},
   "outputs": [
    {
     "name": "stdout",
     "output_type": "stream",
     "text": [
      "[-13, -55, 1, -13, 10, 1, -34, 10, 10, 5]\n"
     ]
    }
   ],
   "source": [
    "# Execution of spell clashes\n",
    "gandalf = [10, 11, 13, 30, 22, 11, 10, 33, 22, 22]\n",
    "saruman = [23, 66, 12, 43, 12, 10, 44, 23, 12, 17]\n",
    "\n",
    "gandalf_wins = 0\n",
    "saruman_wins = 0\n",
    "draws = 0\n",
    "\n",
    "batallas = []\n",
    "for i in range(0,len(gandalf)):\n",
    "    resultado = gandalf[i] - saruman[i]\n",
    "    batallas.append(resultado)\n",
    "print(batallas)"
   ]
  },
  {
   "cell_type": "code",
   "execution_count": 13,
   "metadata": {},
   "outputs": [
    {
     "name": "stdout",
     "output_type": "stream",
     "text": [
      "El ganador es Gandalf \n"
     ]
    }
   ],
   "source": [
    "# We check who has won, do not forget the possibility of a draw.\n",
    "# Print the result based on the winner.\n",
    "\n",
    "for j in batallas:\n",
    "    if j>0:\n",
    "        gandalf_wins += 1\n",
    "    elif j<0:\n",
    "        saruman_wins += 1\n",
    "    else: \n",
    "        draws +=1\n",
    "#print(gandalf_wins) \n",
    "#print(saruman_wins)\n",
    "#print(draws)\n",
    "        \n",
    "if gandalf_wins > saruman_wins:        \n",
    "    print('El ganador es Gandalf ')\n",
    "elif gandalf_wins < saruman_wins: \n",
    "    print('El ganador es Saruman ')\n",
    "else:\n",
    "    print('Es un empate')\n"
   ]
  },
  {
   "cell_type": "markdown",
   "metadata": {},
   "source": [
    "## Goals\n",
    "\n",
    "1. Treatment of lists\n",
    "2. Use of **for loop**\n",
    "3. Use of conditional **if-elif-else**\n",
    "4. Use of the functions **range(), len()**\n",
    "5. Print"
   ]
  },
  {
   "cell_type": "markdown",
   "metadata": {},
   "source": [
    "## Bonus\n",
    "\n",
    "1. Spells now have a name and there is a dictionary that relates that name to a power.\n",
    "2. A sorcerer wins if he succeeds in winning 3 spell clashes in a row.\n",
    "3. Average of each of the spell lists.\n",
    "4. Standard deviation of each of the spell lists.\n",
    "\n",
    "```\n",
    "POWER = {\n",
    "    'Fireball': 50, \n",
    "    'Lightning bolt': 40, \n",
    "    'Magic arrow': 10, \n",
    "    'Black Tentacles': 25, \n",
    "    'Contagion': 45\n",
    "}\n",
    "\n",
    "gandalf = ['Fireball', 'Lightning bolt', 'Lightning bolt', 'Magic arrow', 'Fireball', \n",
    "           'Magic arrow', 'Lightning bolt', 'Fireball', 'Fireball', 'Fireball']\n",
    "saruman = ['Contagion', 'Contagion', 'Black Tentacles', 'Fireball', 'Black Tentacles', \n",
    "           'Lightning bolt', 'Magic arrow', 'Contagion', 'Magic arrow', 'Magic arrow']\n",
    "```\n",
    "\n",
    "Good luck!"
   ]
  },
  {
   "cell_type": "code",
   "execution_count": 35,
   "metadata": {},
   "outputs": [],
   "source": [
    "# 1. Spells now have a name and there is a dictionary that relates that name to a power.\n",
    "# variables\n",
    "\n",
    "POWER = {\n",
    "    'Fireball': 50, \n",
    "    'Lightning bolt': 40, \n",
    "    'Magic arrow': 10, \n",
    "    'Black Tentacles': 25, \n",
    "    'Contagion': 45\n",
    "}\n",
    "\n",
    "gandalf = ['Fireball', 'Lightning bolt', 'Lightning bolt', 'Magic arrow', 'Fireball', \n",
    "           'Magic arrow', 'Lightning bolt', 'Fireball', 'Magic arrow', 'Fireball']\n",
    "saruman = ['Contagion', 'Contagion', 'Black Tentacles', 'Fireball', 'Black Tentacles', \n",
    "           'Lightning bolt', 'Magic arrow', 'Contagion', 'Magic arrow', 'Magic arrow']"
   ]
  },
  {
   "cell_type": "code",
   "execution_count": 49,
   "metadata": {},
   "outputs": [
    {
     "name": "stdout",
     "output_type": "stream",
     "text": [
      "[50, 40, 10, 25, 45]\n",
      "[50, 40, 40, 10, 50, 10, 40, 50, 10, 50]\n",
      "[45, 45, 25, 50, 25, 40, 10, 45, 10, 10]\n"
     ]
    }
   ],
   "source": [
    "# Assign spell power lists to variables\n",
    "power_mag = []\n",
    "for key, val in POWER.items():\n",
    "    power_mag.append(val)\n",
    "print(power_mag)\n",
    "\n",
    "power_gandalf = []\n",
    "for i in range(0,len(gandalf)):\n",
    "    power_gandalf.append(POWER[gandalf[i]])\n",
    "print(power_gandalf)\n",
    "\n",
    "power_saruman = []\n",
    "for i in range(0,len(saruman)):\n",
    "    power_saruman.append(POWER[saruman[i]])\n",
    "print(power_saruman)"
   ]
  },
  {
   "cell_type": "code",
   "execution_count": 57,
   "metadata": {},
   "outputs": [
    {
     "name": "stdout",
     "output_type": "stream",
     "text": [
      "[5, -5, 15, -40, 25, -30, 30, 5, 0, 40]\n",
      "Gandalf: 1 Saruman: 0\n",
      "No hay un claro ganador\n"
     ]
    }
   ],
   "source": [
    "# 2. A sorcerer wins if he succeeds in winning 3 spell clashes in a row.\n",
    "\n",
    "\n",
    "# Execution of spell clashes\n",
    "batallas = []\n",
    "for i in range(0,len(power_gandalf)):\n",
    "    resultado = power_gandalf[i] - power_saruman[i]\n",
    "    batallas.append(resultado)\n",
    "print(batallas)\n",
    "\n",
    "# check for 3 wins in a row\n",
    "\n",
    "wins_g = 0\n",
    "wins_s = 0\n",
    "\n",
    "for i in batallas:\n",
    "    if i > 0:\n",
    "        wins_g += 1\n",
    "        wins_s = 0\n",
    "        #print('Gandalf:', wins_g, 'Saruman:', wins_s)\n",
    "        #if wins_g == 3:\n",
    "        #    print('Gandalf es el ganador')\n",
    "    elif i < 0:\n",
    "        wins_s += 1\n",
    "        wins_g = 0\n",
    "        #print('Gandalf:', wins_g, 'Saruman:', wins_s)\n",
    "        #if wins_s == 3:\n",
    "        #    print('Saruman es el gandor')\n",
    "    elif i == 0: \n",
    "        wins_s = 0\n",
    "        wins_g = 0\n",
    "    \n",
    "print('Gandalf:', wins_g, 'Saruman:', wins_s)\n",
    "\n",
    "# check the winner\n",
    "if wins_g == 3:\n",
    "    print('Gandalf es el ganador')\n",
    "elif wins_s == 3:\n",
    "    print('Saruman es el gandor')\n",
    "else: print('No hay un claro ganador')\n"
   ]
  },
  {
   "cell_type": "code",
   "execution_count": 59,
   "metadata": {},
   "outputs": [
    {
     "name": "stdout",
     "output_type": "stream",
     "text": [
      "Promedio de poder ataque de Gandalf 35.0\n",
      "Promedio de poder ataque de Saruman 30.5\n"
     ]
    }
   ],
   "source": [
    "# 3. Average of each of the spell lists.\n",
    "prom_gandalf = sum(power_gandalf)/len(power_gandalf)\n",
    "print('Promedio de poder ataque de Gandalf', prom_gandalf)\n",
    "\n",
    "prom_saruman = sum(power_saruman)/len(power_saruman)\n",
    "print('Promedio de poder ataque de Saruman', prom_saruman)"
   ]
  },
  {
   "cell_type": "code",
   "execution_count": 62,
   "metadata": {},
   "outputs": [
    {
     "name": "stdout",
     "output_type": "stream",
     "text": [
      "Desviación estándar del poder de Gandalf: 16.881943016134134\n",
      "Desviación estándar del poder de Gandalf: 15.56438241627338\n"
     ]
    }
   ],
   "source": [
    "# 4. Standard deviation of each of the spell lists.\n",
    "import math\n",
    "suma1 = 0\n",
    "suma2 = 0\n",
    "\n",
    "for power1 in power_gandalf:\n",
    "    cuad1 = (prom_gandalf-power1)**2\n",
    "    suma1 = suma1 + cuad1\n",
    "esdev1 = math.sqrt(suma1/len(power_gandalf))\n",
    "print('Desviación estándar del poder de Gandalf:', esdev1)\n",
    "\n",
    "for power2 in power_saruman:\n",
    "    cuad2 = (prom_saruman-power2)**2\n",
    "    suma2 = suma2 + cuad2\n",
    "esdev2 = math.sqrt(suma2/len(power_saruman))\n",
    "print('Desviación estándar del poder de Gandalf:', esdev2)"
   ]
  },
  {
   "cell_type": "code",
   "execution_count": null,
   "metadata": {},
   "outputs": [],
   "source": []
  },
  {
   "cell_type": "code",
   "execution_count": null,
   "metadata": {},
   "outputs": [],
   "source": []
  }
 ],
 "metadata": {
  "kernelspec": {
   "display_name": "Python 3",
   "language": "python",
   "name": "python3"
  },
  "language_info": {
   "codemirror_mode": {
    "name": "ipython",
    "version": 3
   },
   "file_extension": ".py",
   "mimetype": "text/x-python",
   "name": "python",
   "nbconvert_exporter": "python",
   "pygments_lexer": "ipython3",
   "version": "3.7.3"
  }
 },
 "nbformat": 4,
 "nbformat_minor": 2
}
