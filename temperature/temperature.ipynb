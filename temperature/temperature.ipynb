{
 "cells": [
  {
   "cell_type": "markdown",
   "metadata": {},
   "source": [
    "# Processor temperature\n",
    "\n",
    "We have a temperature sensor in the processor of our company's server. We want to analyze the data provided to determinate whether we should change the cooling system for a better one. It is expensive and as a data analyst we cannot make decisions without a basis.\n",
    "\n",
    "We provide the temperatures measured throughout the 24 hours of a day in a list-type data structure composed of 24 integers:\n",
    "```\n",
    "temperatures_C = [33,66,65,0,59,60,62,64,70,76,80,69,80,83,68,79,61,53,50,49,53,48,45,39]\n",
    "```\n",
    "\n",
    "## Goals\n",
    "\n",
    "1. Treatment of lists\n",
    "2. Use of loop or list comprenhention\n",
    "3. Calculation of the mean, minimum and maximum.\n",
    "4. Filtering of lists.\n",
    "5. Interpolate an outlier.\n",
    "6. Logical operators.\n",
    "7. Print"
   ]
  },
  {
   "cell_type": "markdown",
   "metadata": {},
   "source": [
    "## Temperature graph\n",
    "To facilitate understanding, the temperature graph is shown below. You do not have to do anything in this section. The test starts in **Problem**."
   ]
  },
  {
   "cell_type": "code",
   "execution_count": 2,
   "metadata": {},
   "outputs": [
    {
     "ename": "ModuleNotFoundError",
     "evalue": "No module named 'matplotlib'",
     "output_type": "error",
     "traceback": [
      "\u001b[0;31m---------------------------------------------------------------------------\u001b[0m",
      "\u001b[0;31mModuleNotFoundError\u001b[0m                       Traceback (most recent call last)",
      "\u001b[0;32m<ipython-input-2-5d623b03114c>\u001b[0m in \u001b[0;36m<module>\u001b[0;34m\u001b[0m\n\u001b[1;32m      1\u001b[0m \u001b[0;31m# import\u001b[0m\u001b[0;34m\u001b[0m\u001b[0;34m\u001b[0m\u001b[0;34m\u001b[0m\u001b[0m\n\u001b[0;32m----> 2\u001b[0;31m \u001b[0;32mimport\u001b[0m \u001b[0mmatplotlib\u001b[0m\u001b[0;34m.\u001b[0m\u001b[0mpyplot\u001b[0m \u001b[0;32mas\u001b[0m \u001b[0mplt\u001b[0m\u001b[0;34m\u001b[0m\u001b[0;34m\u001b[0m\u001b[0m\n\u001b[0m\u001b[1;32m      3\u001b[0m \u001b[0mget_ipython\u001b[0m\u001b[0;34m(\u001b[0m\u001b[0;34m)\u001b[0m\u001b[0;34m.\u001b[0m\u001b[0mrun_line_magic\u001b[0m\u001b[0;34m(\u001b[0m\u001b[0;34m'matplotlib'\u001b[0m\u001b[0;34m,\u001b[0m \u001b[0;34m'inline'\u001b[0m\u001b[0;34m)\u001b[0m\u001b[0;34m\u001b[0m\u001b[0;34m\u001b[0m\u001b[0m\n\u001b[1;32m      4\u001b[0m \u001b[0;34m\u001b[0m\u001b[0m\n\u001b[1;32m      5\u001b[0m \u001b[0;31m# axis x, axis y\u001b[0m\u001b[0;34m\u001b[0m\u001b[0;34m\u001b[0m\u001b[0;34m\u001b[0m\u001b[0m\n",
      "\u001b[0;31mModuleNotFoundError\u001b[0m: No module named 'matplotlib'"
     ]
    }
   ],
   "source": [
    "# import\n",
    "import matplotlib.pyplot as plt\n",
    "%matplotlib inline\n",
    "\n",
    "# axis x, axis y\n",
    "y = [33,66,65,0,59,60,62,64,70,76,80,81,80,83,90,79,61,53,50,49,53,48,45,39]\n",
    "x = list(range(len(y)))\n",
    "\n",
    "# plot\n",
    "plt.plot(x, y)\n",
    "plt.axhline(y=70, linewidth=1, color='r')\n",
    "plt.xlabel('hours')\n",
    "plt.ylabel('Temperature ºC')\n",
    "plt.title('Temperatures of our server throughout the day')"
   ]
  },
  {
   "cell_type": "markdown",
   "metadata": {},
   "source": [
    "## Problem\n",
    "\n",
    "If the sensor detects more than 4 hours with temperatures greater than or equal to 70ºC or any temperature above 80ºC or the average exceeds 65ºC throughout the day, we must give the order to change the cooling system to avoid damaging the processor.\n",
    "\n",
    "We will guide you step by step so you can make the decision by calculating some intermediate steps:\n",
    "\n",
    "1. Minimum temperature\n",
    "2. Maximum temperature\n",
    "3. Temperatures equal to or greater than 70ºC\n",
    "4. Average temperatures throughout the day.\n",
    "5. If there was a sensor failure at 03:00 and we did not capture the data, how would you estimate the value that we lack? Correct that value in the list of temperatures.\n",
    "6. Bonus: Our maintenance staff is from the United States and does not understand the international metric system. Pass temperatures to Degrees Fahrenheit.\n",
    "\n",
    "Formula: F = 1.8 * C + 32\n",
    "\n",
    "web: https://en.wikipedia.org/wiki/Conversion_of_units_of_temperature\n"
   ]
  },
  {
   "cell_type": "code",
   "execution_count": 2,
   "metadata": {},
   "outputs": [
    {
     "name": "stdout",
     "output_type": "stream",
     "text": [
      "0\n",
      "90\n",
      "[76, 80, 81, 80, 83, 90, 79]\n",
      "60.25\n",
      "62.0\n",
      "[33, 66, 65, 62.0, 59, 60, 62, 64, 70, 76, 80, 81, 80, 83, 90, 79, 61, 53, 50, 49, 53, 48, 45, 39]\n",
      "[91.4, 150.8, 149.0, 143.60000000000002, 138.2, 140.0, 143.60000000000002, 147.2, 158.0, 168.8, 176.0, 177.8, 176.0, 181.4, 194.0, 174.20000000000002, 141.8, 127.4, 122.0, 120.2, 127.4, 118.4, 113.0, 102.2]\n"
     ]
    }
   ],
   "source": [
    "# assign a variable to the list of temperatures\n",
    "\n",
    "# 1. Calculate the minimum of the list and print the value using print()\n",
    "y = [33,66,65,0,59,60,62,64,70,76,80,81,80,83,90,79,61,53,50,49,53,48,45,39]\n",
    "print(min(y))\n",
    "\n",
    "# 2. Calculate the maximum of the list and print the value using print()\n",
    "print(max(y))\n",
    "\n",
    "# 3. Items in the list that are greater than 70ºC and print the result\n",
    "calientes = []\n",
    "for dato in y:\n",
    "    if dato > 70:\n",
    "        calientes.append(dato)\n",
    "print(calientes)\n",
    "\n",
    "# 4. Calculate the mean temperature throughout the day and print the result\n",
    "prom_temp = sum(y)/len(y)\n",
    "print(prom_temp)\n",
    "\n",
    "# 5.1 Solve the fault in the sensor by estimating a value\n",
    "estimado = (y[2]+y[4])/2\n",
    "print(estimado)\n",
    "\n",
    "# 5.2 Update of the estimated value at 03:00 on the list\n",
    "y[3] = estimado\n",
    "print(y)\n",
    "\n",
    "\n",
    "# Bonus: convert the list of ºC to ºFarenheit\n",
    "y_f = []\n",
    "f=0\n",
    "for dato in y:\n",
    "    f = 1.8*dato + 32\n",
    "    y_f.append(f)\n",
    "        \n",
    "print(y_f)\n"
   ]
  },
  {
   "cell_type": "markdown",
   "metadata": {},
   "source": [
    "## Take the decision\n",
    "Remember that if the sensor detects more than 4 hours with temperatures greater than or equal to 70ºC or any temperature higher than 80ºC or the average was higher than 65ºC throughout the day, we must give the order to change the cooling system to avoid the danger of damaging the equipment:\n",
    "* more than 4 hours with temperatures greater than or equal to 70ºC\n",
    "* some temperature higher than 80ºC\n",
    "* average was higher than 65ºC throughout the day\n",
    "If any of these three is met, the cooling system must be changed.\n"
   ]
  },
  {
   "cell_type": "code",
   "execution_count": 3,
   "metadata": {},
   "outputs": [
    {
     "name": "stdout",
     "output_type": "stream",
     "text": [
      "True\n",
      "True\n",
      "False\n"
     ]
    }
   ],
   "source": [
    "# Print True or False depending on whether you would change the cooling system or not\n",
    "\n",
    "y = [33,66,65,0,59,60,62,64,70,76,80,81,80,83,90,79,61,53,50,49,53,48,45,39]\n",
    "\n",
    "#Prueba 1\n",
    "contador = 0\n",
    "for dato in y:\n",
    "    if dato >= 70:\n",
    "        contador += 1\n",
    "if contador > 4:\n",
    "    print(True)\n",
    "else: print(False)\n",
    "\n",
    "#Prueba 2\n",
    "high_temp = max(y)\n",
    "if high_temp > 80:\n",
    "    print(True)\n",
    "    \n",
    "#Prueba 3\n",
    "prom_temp = sum(y)/len(y)\n",
    "\n",
    "if prom_temp > 65:\n",
    "    print(True)\n",
    "else: print(False)"
   ]
  },
  {
   "cell_type": "markdown",
   "metadata": {},
   "source": [
    "## Future improvements\n",
    "1. We want the hours (not the temperatures) whose temperature exceeds 70ºC\n",
    "2. Condition that those hours are more than 4 consecutive and consecutive, not simply the sum of the whole set. Is this condition met?\n",
    "3. Average of each of the lists (ºC and ºF). How they relate?\n",
    "4. Standard deviation of each of the lists. How they relate?\n"
   ]
  },
  {
   "cell_type": "code",
   "execution_count": 4,
   "metadata": {},
   "outputs": [
    {
     "name": "stdout",
     "output_type": "stream",
     "text": [
      "[8, 9, 10, 11, 12, 13, 14, 15]\n"
     ]
    }
   ],
   "source": [
    "# 1. We want the hours (not the temperatures) whose temperature exceeds 70ºC\n",
    "y = [33,66,65,0,59,60,62,64,70,76,80,81,80,83,90,79,61,53,50,49,53,48,45,39]\n",
    "x = list(range(len(y)))\n",
    "\n",
    "horas = []\n",
    "for i in range(len(y)):\n",
    "    if y[i] >= 70:\n",
    "        horas.append(x[i])\n",
    "\n",
    "print(horas)"
   ]
  },
  {
   "cell_type": "code",
   "execution_count": 5,
   "metadata": {},
   "outputs": [
    {
     "name": "stdout",
     "output_type": "stream",
     "text": [
      "True\n"
     ]
    }
   ],
   "source": [
    "# 2. Condition that those hours are more than 4 consecutive and consecutive, not simply the sum of the whole set. Is this condition met?\n",
    "contador = 0\n",
    "for j in range(len(horas)-1):\n",
    "    if horas[j+1] == horas[j] + 1:\n",
    "        contador += 1\n",
    "\n",
    "if contador > 4:\n",
    "   print(True)\n",
    "else: print(False)"
   ]
  },
  {
   "cell_type": "code",
   "execution_count": 8,
   "metadata": {},
   "outputs": [
    {
     "name": "stdout",
     "output_type": "stream",
     "text": [
      "60.25\n",
      "145.1\n",
      "140.45\n"
     ]
    }
   ],
   "source": [
    "# 3. Average of each of the lists (ºC and ºF). How they relate?\n",
    "prom_temp_C = sum(y)/len(y)\n",
    "prom_temp_F = sum(y_f)/len(y_f)\n",
    "\n",
    "print(prom_temp_C)\n",
    "print(prom_temp_F)\n",
    "\n",
    "prom_convert = 1.8*prom_temp_C +32\n",
    "print(prom_convert)"
   ]
  },
  {
   "cell_type": "code",
   "execution_count": 12,
   "metadata": {},
   "outputs": [
    {
     "name": "stdout",
     "output_type": "stream",
     "text": [
      "7.762087348130012\n",
      "12.045746137122432\n"
     ]
    }
   ],
   "source": [
    "# 4. Standard deviation of each of the lists. How they relate?\n",
    "import math\n",
    "\n",
    "vector = []\n",
    "vector2 = []\n",
    "\n",
    "for dato in y:\n",
    "    dato2 = (dato-prom_temp_C)**2\n",
    "    vector2.append(dato)\n",
    "\n",
    "var_C = sum(vector2)/len(y)\n",
    "print(math.sqrt(var_C))\n",
    "\n",
    "for dato in y_f:\n",
    "    dato2 = (dato-prom_temp_F)**2\n",
    "    vector.append(dato)\n",
    "\n",
    "var_F = sum(vector)/len(y_f)\n",
    "print(math.sqrt(var_F))"
   ]
  },
  {
   "cell_type": "code",
   "execution_count": null,
   "metadata": {},
   "outputs": [],
   "source": []
  }
 ],
 "metadata": {
  "kernelspec": {
   "display_name": "Python 3",
   "language": "python",
   "name": "python3"
  },
  "language_info": {
   "codemirror_mode": {
    "name": "ipython",
    "version": 3
   },
   "file_extension": ".py",
   "mimetype": "text/x-python",
   "name": "python",
   "nbconvert_exporter": "python",
   "pygments_lexer": "ipython3",
   "version": "3.7.3"
  }
 },
 "nbformat": 4,
 "nbformat_minor": 2
}
